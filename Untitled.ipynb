{
 "cells": [
  {
   "cell_type": "code",
   "execution_count": 1,
   "id": "03127a29",
   "metadata": {},
   "outputs": [],
   "source": [
    "import numpy as np               #https://numpy.org/"
   ]
  },
  {
   "cell_type": "code",
   "execution_count": 3,
   "id": "ec53a1a1",
   "metadata": {},
   "outputs": [
    {
     "name": "stdout",
     "output_type": "stream",
     "text": [
      "1\n"
     ]
    }
   ],
   "source": [
    "#array陣列 ndarray\n",
    "#zeros,ones,empty   ...陣列\n",
    "#arange,linspace等差\n",
    "#random.[random,randint,,mormal]\n",
    "#上次"
   ]
  },
  {
   "cell_type": "code",
   "execution_count": 14,
   "id": "6f2df239",
   "metadata": {},
   "outputs": [
    {
     "data": {
      "text/plain": [
       "array([1, 4])"
      ]
     },
     "execution_count": 14,
     "metadata": {},
     "output_type": "execute_result"
    }
   ],
   "source": [
    "np.random.normal()#(loc='平均值',scale='標準差',size=個數)\n",
    "\n",
    "#取得陣列的維度數量\n",
    "a=np.random.randint(0,10,size=(3,4))\n",
    "a.ndim #幾維\n",
    "a.shape #有多少(列,欄)\n",
    "a.size  #有多少個元素\n",
    "\n",
    "a[1,2:5] #取列1欄2到5\n",
    "a[:,2] #列all欄2(((空格是最前(後)\n",
    "a[2,:] #列2欄all\n",
    "a[0,1::2] #列不取,欄1開始:每2個元素取1值"
   ]
  },
  {
   "cell_type": "code",
   "execution_count": 18,
   "id": "bc986738",
   "metadata": {},
   "outputs": [
    {
     "ename": "SyntaxError",
     "evalue": "invalid syntax (<ipython-input-18-fa1fa597bc3c>, line 10)",
     "output_type": "error",
     "traceback": [
      "\u001b[0;36m  File \u001b[0;32m\"<ipython-input-18-fa1fa597bc3c>\"\u001b[0;36m, line \u001b[0;32m10\u001b[0m\n\u001b[0;31m    np.concatenate([x,y],@@@)  #只接受形狀相同的陣列\u001b[0m\n\u001b[0m                         ^\u001b[0m\n\u001b[0;31mSyntaxError\u001b[0m\u001b[0;31m:\u001b[0m invalid syntax\n"
     ]
    }
   ],
   "source": [
    "b=np.array([1,2,3])\n",
    "newb=b.reshape((3,1)) #重排\n",
    "print(newb)\n",
    "\n",
    "#串接\n",
    "x=np.array([1,2,3])\n",
    "y=np.array([4,5,6])\n",
    "np.vstack([x,y])    #垂直\n",
    "np.hstack           #水平\n",
    "np.concatenate([x,y],@@@)  #只接受形狀相同的陣列\n",
    "@@@\n",
    " asix=0   #沿第0軸\n",
    " b.T #轉置"
   ]
  },
  {
   "cell_type": "code",
   "execution_count": 20,
   "id": "21f49f45",
   "metadata": {},
   "outputs": [],
   "source": [
    "#相同的array可以直接做運算"
   ]
  },
  {
   "cell_type": "code",
   "execution_count": 22,
   "id": "fe0ae344",
   "metadata": {},
   "outputs": [],
   "source": [
    "#mean,sum,median,max,argmax,prod(全部值相乘)"
   ]
  },
  {
   "cell_type": "code",
   "execution_count": null,
   "id": "f9aa4e9d",
   "metadata": {},
   "outputs": [],
   "source": []
  },
  {
   "cell_type": "code",
   "execution_count": null,
   "id": "1a95c8b4",
   "metadata": {},
   "outputs": [],
   "source": []
  },
  {
   "cell_type": "code",
   "execution_count": null,
   "id": "bf1f5460",
   "metadata": {},
   "outputs": [],
   "source": []
  },
  {
   "cell_type": "code",
   "execution_count": null,
   "id": "e5837734",
   "metadata": {},
   "outputs": [],
   "source": []
  },
  {
   "cell_type": "code",
   "execution_count": null,
   "id": "2c6c56b5",
   "metadata": {},
   "outputs": [],
   "source": []
  },
  {
   "cell_type": "code",
   "execution_count": null,
   "id": "5edcb9d3",
   "metadata": {},
   "outputs": [],
   "source": []
  },
  {
   "cell_type": "code",
   "execution_count": null,
   "id": "accd82da",
   "metadata": {},
   "outputs": [],
   "source": []
  },
  {
   "cell_type": "code",
   "execution_count": null,
   "id": "bcb5b55d",
   "metadata": {},
   "outputs": [],
   "source": []
  },
  {
   "cell_type": "code",
   "execution_count": null,
   "id": "c3ca64b0",
   "metadata": {},
   "outputs": [],
   "source": []
  }
 ],
 "metadata": {
  "kernelspec": {
   "display_name": "Python 3",
   "language": "python",
   "name": "python3"
  },
  "language_info": {
   "codemirror_mode": {
    "name": "ipython",
    "version": 3
   },
   "file_extension": ".py",
   "mimetype": "text/x-python",
   "name": "python",
   "nbconvert_exporter": "python",
   "pygments_lexer": "ipython3",
   "version": "3.8.8"
  }
 },
 "nbformat": 4,
 "nbformat_minor": 5
}
