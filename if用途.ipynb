{
 "cells": [
  {
   "cell_type": "code",
   "execution_count": 5,
   "id": "03f35031",
   "metadata": {},
   "outputs": [
    {
     "name": "stdout",
     "output_type": "stream",
     "text": [
      "a temperature:(F)100\n",
      "23.555555555555557\n",
      "It is a nice day!\n"
     ]
    }
   ],
   "source": [
    "F=int(input(\"a temperature:(F)\"))\n",
    "C=(5/9)*F-32\n",
    "print(C)\n",
    "if C>30:\n",
    "    print(\"Heat Warning!\")\n",
    "elif 30>C>10:\n",
    "    print(\"It is a nice day!\")\n",
    "else:\n",
    "    print(\"Cold weather alerts!\")"
   ]
  },
  {
   "cell_type": "code",
   "execution_count": 12,
   "id": "d4d45c85",
   "metadata": {},
   "outputs": [
    {
     "name": "stdout",
     "output_type": "stream",
     "text": [
      "輸入小狗活了多久：-7\n",
      "hau?\n"
     ]
    }
   ],
   "source": [
    "p=int(input(\"輸入小狗活了多久：\"))\n",
    "d=0\n",
    "if 0<p<=2:\n",
    "    d=p*10.5\n",
    "    print(d)\n",
    "elif p>2:\n",
    "    d=2*10.5+(p-2)*4\n",
    "    print(d)\n",
    "else:\n",
    "    print(\"hau?\")"
   ]
  },
  {
   "cell_type": "code",
   "execution_count": null,
   "id": "43143ee1",
   "metadata": {},
   "outputs": [],
   "source": []
  }
 ],
 "metadata": {
  "kernelspec": {
   "display_name": "Python 3",
   "language": "python",
   "name": "python3"
  },
  "language_info": {
   "codemirror_mode": {
    "name": "ipython",
    "version": 3
   },
   "file_extension": ".py",
   "mimetype": "text/x-python",
   "name": "python",
   "nbconvert_exporter": "python",
   "pygments_lexer": "ipython3",
   "version": "3.8.8"
  }
 },
 "nbformat": 4,
 "nbformat_minor": 5
}
